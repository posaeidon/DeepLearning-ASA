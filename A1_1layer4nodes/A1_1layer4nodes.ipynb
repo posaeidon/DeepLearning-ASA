{
 "cells": [
  {
   "cell_type": "code",
   "execution_count": 1,
   "metadata": {
    "colab": {},
    "colab_type": "code",
    "id": "Qm5vJbqvux30"
   },
   "outputs": [
    {
     "name": "stderr",
     "output_type": "stream",
     "text": [
      "/usr/local/lib/python3.6/dist-packages/tensorflow/python/framework/dtypes.py:516: FutureWarning: Passing (type, 1) or '1type' as a synonym of type is deprecated; in a future version of numpy, it will be understood as (type, (1,)) / '(1,)type'.\n",
      "  _np_qint8 = np.dtype([(\"qint8\", np.int8, 1)])\n",
      "/usr/local/lib/python3.6/dist-packages/tensorflow/python/framework/dtypes.py:517: FutureWarning: Passing (type, 1) or '1type' as a synonym of type is deprecated; in a future version of numpy, it will be understood as (type, (1,)) / '(1,)type'.\n",
      "  _np_quint8 = np.dtype([(\"quint8\", np.uint8, 1)])\n",
      "/usr/local/lib/python3.6/dist-packages/tensorflow/python/framework/dtypes.py:518: FutureWarning: Passing (type, 1) or '1type' as a synonym of type is deprecated; in a future version of numpy, it will be understood as (type, (1,)) / '(1,)type'.\n",
      "  _np_qint16 = np.dtype([(\"qint16\", np.int16, 1)])\n",
      "/usr/local/lib/python3.6/dist-packages/tensorflow/python/framework/dtypes.py:519: FutureWarning: Passing (type, 1) or '1type' as a synonym of type is deprecated; in a future version of numpy, it will be understood as (type, (1,)) / '(1,)type'.\n",
      "  _np_quint16 = np.dtype([(\"quint16\", np.uint16, 1)])\n",
      "/usr/local/lib/python3.6/dist-packages/tensorflow/python/framework/dtypes.py:520: FutureWarning: Passing (type, 1) or '1type' as a synonym of type is deprecated; in a future version of numpy, it will be understood as (type, (1,)) / '(1,)type'.\n",
      "  _np_qint32 = np.dtype([(\"qint32\", np.int32, 1)])\n",
      "/usr/local/lib/python3.6/dist-packages/tensorflow/python/framework/dtypes.py:525: FutureWarning: Passing (type, 1) or '1type' as a synonym of type is deprecated; in a future version of numpy, it will be understood as (type, (1,)) / '(1,)type'.\n",
      "  np_resource = np.dtype([(\"resource\", np.ubyte, 1)])\n",
      "/usr/local/lib/python3.6/dist-packages/tensorboard/compat/tensorflow_stub/dtypes.py:541: FutureWarning: Passing (type, 1) or '1type' as a synonym of type is deprecated; in a future version of numpy, it will be understood as (type, (1,)) / '(1,)type'.\n",
      "  _np_qint8 = np.dtype([(\"qint8\", np.int8, 1)])\n",
      "/usr/local/lib/python3.6/dist-packages/tensorboard/compat/tensorflow_stub/dtypes.py:542: FutureWarning: Passing (type, 1) or '1type' as a synonym of type is deprecated; in a future version of numpy, it will be understood as (type, (1,)) / '(1,)type'.\n",
      "  _np_quint8 = np.dtype([(\"quint8\", np.uint8, 1)])\n",
      "/usr/local/lib/python3.6/dist-packages/tensorboard/compat/tensorflow_stub/dtypes.py:543: FutureWarning: Passing (type, 1) or '1type' as a synonym of type is deprecated; in a future version of numpy, it will be understood as (type, (1,)) / '(1,)type'.\n",
      "  _np_qint16 = np.dtype([(\"qint16\", np.int16, 1)])\n",
      "/usr/local/lib/python3.6/dist-packages/tensorboard/compat/tensorflow_stub/dtypes.py:544: FutureWarning: Passing (type, 1) or '1type' as a synonym of type is deprecated; in a future version of numpy, it will be understood as (type, (1,)) / '(1,)type'.\n",
      "  _np_quint16 = np.dtype([(\"quint16\", np.uint16, 1)])\n",
      "/usr/local/lib/python3.6/dist-packages/tensorboard/compat/tensorflow_stub/dtypes.py:545: FutureWarning: Passing (type, 1) or '1type' as a synonym of type is deprecated; in a future version of numpy, it will be understood as (type, (1,)) / '(1,)type'.\n",
      "  _np_qint32 = np.dtype([(\"qint32\", np.int32, 1)])\n",
      "/usr/local/lib/python3.6/dist-packages/tensorboard/compat/tensorflow_stub/dtypes.py:550: FutureWarning: Passing (type, 1) or '1type' as a synonym of type is deprecated; in a future version of numpy, it will be understood as (type, (1,)) / '(1,)type'.\n",
      "  np_resource = np.dtype([(\"resource\", np.ubyte, 1)])\n"
     ]
    }
   ],
   "source": [
    "import numpy as np\n",
    "import tensorflow as tf\n",
    "from tensorflow import keras\n",
    "from tensorflow.keras.layers import Dense\n",
    "import matplotlib.pyplot as plt\n",
    "import pandas as pd\n",
    "import requests, io"
   ]
  },
  {
   "cell_type": "code",
   "execution_count": 2,
   "metadata": {
    "colab": {},
    "colab_type": "code",
    "id": "FyzayZ1d9p5M"
   },
   "outputs": [],
   "source": [
    "# Read data\n",
    "url = 'https://github.com/posaeidon/DeepLearning-ASA/blob/master/data/DLA_A1_data/obs_matrix.npy?raw=true'\n",
    "s=requests.get(url, stream=True).content\n",
    "obs_matrix = pd.DataFrame(np.load(io.BytesIO(s)))\n",
    "\n",
    "url = 'https://github.com/posaeidon/DeepLearning-ASA/blob/master/data/DLA_A1_data/pho_matrix.npy?raw=true'\n",
    "s=requests.get(url, stream=True).content\n",
    "pho_matrix = pd.DataFrame(np.load(io.BytesIO(s)))\n",
    "\n",
    "url = 'https://github.com/posaeidon/DeepLearning-ASA/blob/master/data/DLA_A1_data/sim_matrix.npy?raw=true'\n",
    "s=requests.get(url, stream=True).content\n",
    "sim_matrix = pd.DataFrame(np.load(io.BytesIO(s)))"
   ]
  },
  {
   "cell_type": "code",
   "execution_count": 3,
   "metadata": {
    "colab": {},
    "colab_type": "code",
    "id": "hpLeP0KIa2ER"
   },
   "outputs": [],
   "source": [
    "# drop designation number for asteroid\n",
    "obs = obs_matrix.drop(5, axis=1)\n",
    "pho = pho_matrix.drop(5, axis=1)\n",
    "sim = sim_matrix.drop(5, axis=1)"
   ]
  },
  {
   "cell_type": "code",
   "execution_count": 4,
   "metadata": {
    "colab": {},
    "colab_type": "code",
    "id": "nk3ggUK5ahMB"
   },
   "outputs": [],
   "source": [
    "# label 0 for non hazardous planetaries and 1 for hazardous planetaries\n",
    "obs_labels = pd.Series(np.zeros(obs.shape[0]))\n",
    "obs[5] = obs_labels \n",
    "\n",
    "sim_labels = pd.Series(np.ones(sim.shape[0]))\n",
    "sim[5] = sim_labels \n",
    "\n",
    "data = pd.concat([obs, sim])"
   ]
  },
  {
   "cell_type": "code",
   "execution_count": 5,
   "metadata": {
    "colab": {},
    "colab_type": "code",
    "id": "4q_c7AzHsWGt"
   },
   "outputs": [],
   "source": [
    "# Prepare data\n",
    "X = np.array(data.drop(5, axis=1))\n",
    "Y = np.array(data[5])\n",
    "\n",
    "from sklearn.utils import shuffle\n",
    "X, Y = shuffle(X,Y, random_state = 0)\n",
    "\n",
    "from sklearn.model_selection import train_test_split\n",
    "X_train, X_test, Y_train, Y_test = train_test_split(X, Y, random_state=0, test_size=0.10)"
   ]
  },
  {
   "cell_type": "code",
   "execution_count": 6,
   "metadata": {
    "colab": {
     "base_uri": "https://localhost:8080/",
     "height": 301
    },
    "colab_type": "code",
    "id": "DoYQ2uRclzjq",
    "outputId": "a1c79aaf-566a-49d7-b90a-cd828671fbb7"
   },
   "outputs": [
    {
     "name": "stdout",
     "output_type": "stream",
     "text": [
      "WARNING:tensorflow:From /usr/local/lib/python3.6/dist-packages/tensorflow/python/ops/init_ops.py:1251: calling VarianceScaling.__init__ (from tensorflow.python.ops.init_ops) with dtype is deprecated and will be removed in a future version.\n",
      "Instructions for updating:\n",
      "Call initializer instance with the dtype argument instead of passing it to the constructor\n",
      "Model: \"sequential\"\n",
      "_________________________________________________________________\n",
      "Layer (type)                 Output Shape              Param #   \n",
      "=================================================================\n",
      "dense (Dense)                multiple                  24        \n",
      "_________________________________________________________________\n",
      "dense_1 (Dense)              multiple                  10        \n",
      "=================================================================\n",
      "Total params: 34\n",
      "Trainable params: 34\n",
      "Non-trainable params: 0\n",
      "_________________________________________________________________\n"
     ]
    }
   ],
   "source": [
    "# Define model\n",
    "model = keras.Sequential([\n",
    "    keras.layers.Dense(4, activation=\"relu\"),\n",
    "    keras.layers.Dense(2, activation=\"softmax\")\n",
    "])\n",
    "\n",
    "model.compile(loss='sparse_categorical_crossentropy',\n",
    "              optimizer='adam',\n",
    "              metrics=['accuracy'])\n",
    "\n",
    "model.build((None, 5))\n",
    "model.summary()"
   ]
  },
  {
   "cell_type": "code",
   "execution_count": 7,
   "metadata": {
    "colab": {
     "base_uri": "https://localhost:8080/",
     "height": 230
    },
    "colab_type": "code",
    "id": "tQp0teO2uOoj",
    "outputId": "2bb5f33c-34f3-4590-af3b-d176c9cb12d2"
   },
   "outputs": [
    {
     "name": "stdout",
     "output_type": "stream",
     "text": [
      "Train on 711610 samples, validate on 237204 samples\n",
      "Epoch 1/30\n",
      "711610/711610 [==============================] - 26s 36us/sample - loss: 0.0916 - acc: 0.9744 - val_loss: 0.0627 - val_acc: 0.9799\n",
      "Epoch 2/30\n",
      "711610/711610 [==============================] - 25s 35us/sample - loss: 0.0574 - acc: 0.9817 - val_loss: 0.0567 - val_acc: 0.9814\n",
      "Epoch 3/30\n",
      "711610/711610 [==============================] - 25s 35us/sample - loss: 0.0544 - acc: 0.9826 - val_loss: 0.0558 - val_acc: 0.9821\n",
      "Epoch 4/30\n",
      "711610/711610 [==============================] - 25s 36us/sample - loss: 0.0534 - acc: 0.9828 - val_loss: 0.0543 - val_acc: 0.9831\n",
      "Epoch 5/30\n",
      "711610/711610 [==============================] - 25s 36us/sample - loss: 0.0527 - acc: 0.9828 - val_loss: 0.0542 - val_acc: 0.9830\n",
      "Epoch 6/30\n",
      "711610/711610 [==============================] - 26s 36us/sample - loss: 0.0525 - acc: 0.9830 - val_loss: 0.0537 - val_acc: 0.9833\n",
      "Epoch 7/30\n",
      "711610/711610 [==============================] - 26s 36us/sample - loss: 0.0522 - acc: 0.9830 - val_loss: 0.0537 - val_acc: 0.9831\n",
      "Epoch 8/30\n",
      "711610/711610 [==============================] - 26s 36us/sample - loss: 0.0521 - acc: 0.9830 - val_loss: 0.0534 - val_acc: 0.9824\n",
      "Epoch 9/30\n",
      "711610/711610 [==============================] - 26s 36us/sample - loss: 0.0520 - acc: 0.9830 - val_loss: 0.0531 - val_acc: 0.9827\n",
      "Epoch 10/30\n",
      "711610/711610 [==============================] - 26s 36us/sample - loss: 0.0519 - acc: 0.9830 - val_loss: 0.0538 - val_acc: 0.9837\n",
      "Epoch 11/30\n",
      "711610/711610 [==============================] - 26s 36us/sample - loss: 0.0518 - acc: 0.9830 - val_loss: 0.0536 - val_acc: 0.9830\n",
      "Epoch 12/30\n",
      "711610/711610 [==============================] - 26s 36us/sample - loss: 0.0518 - acc: 0.9831 - val_loss: 0.0531 - val_acc: 0.9830\n",
      "Epoch 13/30\n",
      "711610/711610 [==============================] - 26s 36us/sample - loss: 0.0518 - acc: 0.9831 - val_loss: 0.0532 - val_acc: 0.9827\n",
      "Epoch 14/30\n",
      "711610/711610 [==============================] - 26s 36us/sample - loss: 0.0517 - acc: 0.9831 - val_loss: 0.0532 - val_acc: 0.9833\n",
      "Epoch 15/30\n",
      "711610/711610 [==============================] - 28s 39us/sample - loss: 0.0517 - acc: 0.9831 - val_loss: 0.0532 - val_acc: 0.9832\n",
      "Epoch 16/30\n",
      "711610/711610 [==============================] - 26s 37us/sample - loss: 0.0517 - acc: 0.9832 - val_loss: 0.0533 - val_acc: 0.9827\n",
      "Epoch 17/30\n",
      "711610/711610 [==============================] - 26s 36us/sample - loss: 0.0516 - acc: 0.9832 - val_loss: 0.0531 - val_acc: 0.9835\n",
      "Epoch 18/30\n",
      "711610/711610 [==============================] - 26s 37us/sample - loss: 0.0515 - acc: 0.9832 - val_loss: 0.0538 - val_acc: 0.9839\n",
      "Epoch 19/30\n",
      "711610/711610 [==============================] - 26s 36us/sample - loss: 0.0515 - acc: 0.9833 - val_loss: 0.0533 - val_acc: 0.9830\n",
      "Epoch 20/30\n",
      "711610/711610 [==============================] - 26s 37us/sample - loss: 0.0515 - acc: 0.9832 - val_loss: 0.0532 - val_acc: 0.9836\n",
      "Epoch 21/30\n",
      "711610/711610 [==============================] - 26s 37us/sample - loss: 0.0515 - acc: 0.9832 - val_loss: 0.0533 - val_acc: 0.9837\n",
      "Epoch 22/30\n",
      "711610/711610 [==============================] - 26s 37us/sample - loss: 0.0515 - acc: 0.9832 - val_loss: 0.0535 - val_acc: 0.9829\n",
      "Epoch 23/30\n",
      "711610/711610 [==============================] - 26s 37us/sample - loss: 0.0515 - acc: 0.9832 - val_loss: 0.0531 - val_acc: 0.9833\n",
      "Epoch 24/30\n",
      "711610/711610 [==============================] - 26s 36us/sample - loss: 0.0515 - acc: 0.9831 - val_loss: 0.0533 - val_acc: 0.9833\n",
      "Epoch 25/30\n",
      "711610/711610 [==============================] - 26s 37us/sample - loss: 0.0515 - acc: 0.9832 - val_loss: 0.0529 - val_acc: 0.9831\n",
      "Epoch 26/30\n",
      "711610/711610 [==============================] - 26s 37us/sample - loss: 0.0514 - acc: 0.9831 - val_loss: 0.0537 - val_acc: 0.9837\n",
      "Epoch 27/30\n",
      "711610/711610 [==============================] - 26s 37us/sample - loss: 0.0515 - acc: 0.9830 - val_loss: 0.0531 - val_acc: 0.9832\n",
      "Epoch 28/30\n",
      "711610/711610 [==============================] - 26s 37us/sample - loss: 0.0515 - acc: 0.9831 - val_loss: 0.0533 - val_acc: 0.9835\n",
      "Epoch 29/30\n",
      "711610/711610 [==============================] - 26s 37us/sample - loss: 0.0515 - acc: 0.9830 - val_loss: 0.0532 - val_acc: 0.9831\n",
      "Epoch 30/30\n",
      "711610/711610 [==============================] - 26s 37us/sample - loss: 0.0514 - acc: 0.9830 - val_loss: 0.0540 - val_acc: 0.9835\n"
     ]
    }
   ],
   "source": [
    "# Fit modell and record history\n",
    "history = model.fit(X_train, Y_train, validation_split=0.25, epochs=30, batch_size=32, verbose=1)"
   ]
  },
  {
   "cell_type": "code",
   "execution_count": 8,
   "metadata": {
    "colab": {
     "base_uri": "https://localhost:8080/",
     "height": 52
    },
    "colab_type": "code",
    "id": "jpM3wl3T66KG",
    "outputId": "ed1d26fa-6989-4100-9d3c-2b79e96c31f2"
   },
   "outputs": [
    {
     "name": "stdout",
     "output_type": "stream",
     "text": [
      "The loss on the test data was:  0.05099102081300919\n",
      "The accuracy on the test data was:  0.983315\n"
     ]
    }
   ],
   "source": [
    "# Evaluate model with unused test data\n",
    "result = model.evaluate(X_test, Y_test, verbose=0)\n",
    "print (\"The loss on the test data was: \", result[0])\n",
    "print (\"The accuracy on the test data was: \", result[1])"
   ]
  },
  {
   "cell_type": "code",
   "execution_count": 9,
   "metadata": {
    "colab": {
     "base_uri": "https://localhost:8080/",
     "height": 283
    },
    "colab_type": "code",
    "id": "4xk4wlWBxKAb",
    "outputId": "9c1f768e-f97a-4be0-c6f2-4305a3b3de7b"
   },
   "outputs": [
    {
     "data": {
      "image/png": "[encoded data removed]",
      "text/plain": [
       "<Figure size 432x288 with 2 Axes>"
      ]
     },
     "metadata": {
      "needs_background": "light"
     },
     "output_type": "display_data"
    }
   ],
   "source": [
    "# Create confusion matrix\n",
    "from sklearn.metrics import confusion_matrix\n",
    "Y_predicted = np.argmax(model.predict(X_test), axis=1)\n",
    "cm = confusion_matrix(Y_test, Y_predicted)\n",
    "\n",
    "# Plot confusion matrix\n",
    "fig = plt.figure(1)\n",
    "ax = fig.add_subplot(111)\n",
    "\n",
    "cax = ax.imshow(cm, interpolation='nearest', cmap=plt.cm.Blues)\n",
    "fig.colorbar(cax, label='counts')\n",
    "\n",
    "ax.set_xlim(-0.5, 1.5)\n",
    "ax.set_ylim(-0.5, 1.5)\n",
    "ax.set_xticks([0, 1])\n",
    "ax.set_yticks([0, 1])\n",
    "\n",
    "for i in range(2):\n",
    "\tfor j in range(2):\n",
    "\t\tif cm[i,j] > np.max(cm)/2.:\n",
    "\t\t\tc=\"white\"\n",
    "\t\telse:\n",
    "\t\t\tc=\"black\"\n",
    "\t\tax.text(j, i, str(cm[i,j]), horizontalalignment='center', color=c)\n",
    "\n",
    "ax.set_ylabel('Predicted')\n",
    "ax.set_xlabel('True')\n",
    "\n",
    "plt.savefig('cm.png')"
   ]
  },
  {
   "cell_type": "code",
   "execution_count": 10,
   "metadata": {
    "colab": {
     "base_uri": "https://localhost:8080/",
     "height": 52
    },
    "colab_type": "code",
    "id": "5UrTWbuw3nvL",
    "outputId": "614c7df6-c9c9-45cd-a8f8-bb011bb4e5fb"
   },
   "outputs": [
    {
     "name": "stdout",
     "output_type": "stream",
     "text": [
      "Hitting percentage in train data: 0.30182733391370703\n",
      "Hitting percentage in test data: 0.30049134921839427\n"
     ]
    }
   ],
   "source": [
    "# Check how many are hitting to compare if confusion matrix makes sense\n",
    "print('Hitting percentage in train data:', sum(Y_train)/len(Y_train))\n",
    "print('Hitting percentage in test data:', sum(Y_test)/len(Y_test))"
   ]
  },
  {
   "cell_type": "code",
   "execution_count": 11,
   "metadata": {
    "colab": {
     "base_uri": "https://localhost:8080/",
     "height": 369
    },
    "colab_type": "code",
    "id": "YzMyYpuDVGIW",
    "outputId": "9e54e514-d380-4c6f-e1b5-01489a368fd6"
   },
   "outputs": [
    {
     "data": {
      "image/png": "[encoded data removed]",
      "text/plain": [
       "<Figure size 720x360 with 2 Axes>"
      ]
     },
     "metadata": {
      "needs_background": "light"
     },
     "output_type": "display_data"
    }
   ],
   "source": [
    "# Plot training & validation accuracy values\n",
    "fig = plt.figure(figsize=(10,5))\n",
    "ax = fig.add_subplot(1,2,1, title = 'Model accuracy', ylabel= 'Accuracy')\n",
    "plt.plot(history.history['acc'])\n",
    "plt.plot(history.history['val_acc'])\n",
    "plt.legend(['Train', 'Test'], loc='upper left')\n",
    "\n",
    "# Plot training & validation loss values\n",
    "ax = fig.add_subplot(1,2,2, title = 'Model loss', ylabel= 'Loss')\n",
    "plt.plot(history.history['loss'])\n",
    "plt.plot(history.history['val_loss'])\n",
    "plt.legend(['Train', 'Test'], loc='upper left')\n",
    "\n",
    "plt.tight_layout()\n",
    "plt.show()\n",
    "\n",
    "fig.savefig('model_acc_loss.png')"
   ]
  },
  {
   "cell_type": "code",
   "execution_count": 12,
   "metadata": {
    "colab": {
     "base_uri": "https://localhost:8080/",
     "height": 357
    },
    "colab_type": "code",
    "id": "J83Z0tQWW3nX",
    "outputId": "81d78928-b6e7-409e-875f-7bc944900b5a"
   },
   "outputs": [
    {
     "data": {
      "text/plain": [
       "(array([599.,  94.,  73.,  61.,  55.,  62.,  61.,  65., 116., 567.]),\n",
       " array([4.29137508e-05, 1.00038625e-01, 2.00034335e-01, 3.00030053e-01,\n",
       "        4.00025755e-01, 5.00021458e-01, 6.00017190e-01, 7.00012863e-01,\n",
       "        8.00008595e-01, 9.00004268e-01, 1.00000000e+00], dtype=float32),\n",
       " <a list of 10 Patch objects>)"
      ]
     },
     "execution_count": 12,
     "metadata": {},
     "output_type": "execute_result"
    },
    {
     "data": {
      "image/png": "[encoded data removed]",
      "text/plain": [
       "<Figure size 432x288 with 1 Axes>"
      ]
     },
     "metadata": {
      "needs_background": "light"
     },
     "output_type": "display_data"
    }
   ],
   "source": [
    "# Prepare pho matrix and plot histogram\n",
    "pho_test = np.array(pho)\n",
    "plt.hist(model.predict(pho_test)[:, 1])"
   ]
  },
  {
   "cell_type": "code",
   "execution_count": 13,
   "metadata": {
    "colab": {
     "base_uri": "https://localhost:8080/",
     "height": 286
    },
    "colab_type": "code",
    "id": "Ok89BX3g98Hh",
    "outputId": "9762b5d6-f50f-494c-f630-a66b79876422"
   },
   "outputs": [
    {
     "data": {
      "text/plain": [
       "(array([882., 871.]), array([0. , 0.5, 1. ]), <a list of 2 Patch objects>)"
      ]
     },
     "execution_count": 13,
     "metadata": {},
     "output_type": "execute_result"
    },
    {
     "data": {
      "image/png": "[encoded data removed]",
      "text/plain": [
       "<Figure size 432x288 with 1 Axes>"
      ]
     },
     "metadata": {
      "needs_background": "light"
     },
     "output_type": "display_data"
    }
   ],
   "source": [
    "# Change percentage value to integer 0 or 1 and plot histogram\n",
    "pho_predict = np.argmax(model.predict(pho_test), axis=1)\n",
    "plt.hist(pho_predict, bins=2)"
   ]
  },
  {
   "cell_type": "code",
   "execution_count": 14,
   "metadata": {
    "colab": {
     "base_uri": "https://localhost:8080/",
     "height": 322
    },
    "colab_type": "code",
    "id": "yTuf_k-SIIC2",
    "outputId": "afc76ad0-8857-4630-da0e-483e09b5062e"
   },
   "outputs": [
    {
     "data": {
      "text/plain": [
       "(array([727849.,   8332.]),\n",
       " array([0. , 0.5, 1. ]),\n",
       " <a list of 2 Patch objects>)"
      ]
     },
     "execution_count": 14,
     "metadata": {},
     "output_type": "execute_result"
    },
    {
     "data": {
      "image/png": "[encoded data removed]",
      "text/plain": [
       "<Figure size 432x288 with 1 Axes>"
      ]
     },
     "metadata": {
      "needs_background": "light"
     },
     "output_type": "display_data"
    }
   ],
   "source": [
    "# Also test elements of observed matrix and plot histogram\n",
    "obs_test = np.array(obs_matrix.drop(5, axis=1))\n",
    "predict_obs = np.argmax(model.predict(obs_test), axis=1)\n",
    "plt.hist(predict_obs, bins=2)"
   ]
  },
  {
   "cell_type": "code",
   "execution_count": 15,
   "metadata": {
    "colab": {
     "base_uri": "https://localhost:8080/",
     "height": 322
    },
    "colab_type": "code",
    "id": "oAcUeJq2JbPg",
    "outputId": "6922b82c-d920-441c-f890-8ccebcd4f987"
   },
   "outputs": [
    {
     "data": {
      "text/plain": [
       "(array([  9040., 309017.]),\n",
       " array([0. , 0.5, 1. ]),\n",
       " <a list of 2 Patch objects>)"
      ]
     },
     "execution_count": 15,
     "metadata": {},
     "output_type": "execute_result"
    },
    {
     "data": {
      "image/png": "[encoded data removed]",
      "text/plain": [
       "<Figure size 432x288 with 1 Axes>"
      ]
     },
     "metadata": {
      "needs_background": "light"
     },
     "output_type": "display_data"
    }
   ],
   "source": [
    "# And test sim matrix and plot histogram\n",
    "sim_test = np.array(sim_matrix.drop(5, axis=1))\n",
    "predict_sim = np.argmax(model.predict(sim_test), axis=1)\n",
    "plt.hist(predict_sim, bins=2)"
   ]
  },
  {
   "cell_type": "code",
   "execution_count": 16,
   "metadata": {
    "colab": {},
    "colab_type": "code",
    "id": "v08NP0cRBKB-"
   },
   "outputs": [],
   "source": [
    "# Extract and save hitting and non hitting from obs\n",
    "predict = pd.Series(predict_obs)\n",
    "ho_obs = obs_matrix.iloc[predict[predict == 1].index]\n",
    "nho_obs = obs_matrix.iloc[predict[predict == 0].index]\n",
    "\n",
    "np.savetxt(r'ho_obs.txt', ho_obs[5].values, fmt='%d')\n",
    "np.savetxt(r'nho_obs.txt', nho_obs[5].values, fmt='%d')"
   ]
  },
  {
   "cell_type": "code",
   "execution_count": 17,
   "metadata": {
    "colab": {},
    "colab_type": "code",
    "id": "833mSVve15Qs"
   },
   "outputs": [],
   "source": [
    "# Extract and save hitting and non hitting from pho\n",
    "predict = pd.Series(pho_predict)\n",
    "ho_pho = pho_matrix.iloc[predict[predict == 1].index] #hazardous objects\n",
    "nho_pho = pho_matrix.iloc[predict[predict == 0].index] #non hazardous objects\n",
    "\n",
    "np.savetxt(r'ho_pho.txt', ho_pho[5].values, fmt='%d')\n",
    "np.savetxt(r'nho_pho.txt', nho_pho[5].values, fmt='%d')"
   ]
  },
  {
   "cell_type": "code",
   "execution_count": 19,
   "metadata": {
    "colab": {},
    "colab_type": "code",
    "id": "Hk0-5Z1TJabF"
   },
   "outputs": [],
   "source": [
    "# Create files with 1000 predicted hazardous and 1000 predicted non hazardous\n",
    "if len(ho_pho) > 1000:\n",
    "  ho1000 = ho_pho[:1000]\n",
    "else:\n",
    "  n_remaining = 1000 - len(ho_pho)\n",
    "  ho1000 = pd.concat([ho_pho, ho_obs[:n_remaining]])\n",
    "  \n",
    "if len(nho_pho) > 1000:\n",
    "  nho1000 = nho_pho[:1000]\n",
    "else:\n",
    "  n_remaining = 1000 - len(nho_pho)\n",
    "  nho1000 = pd.concat([nho_pho, nho_obs[:n_remaining]])\n",
    "\n",
    "np.savetxt(r'ho1000.txt', ho1000[5].values, fmt='%d')\n",
    "np.savetxt(r'nho1000.txt', nho1000[5].values, fmt='%d')"
   ]
  },
  {
   "cell_type": "code",
   "execution_count": null,
   "metadata": {
    "colab": {},
    "colab_type": "code",
    "id": "3uKyWwlYJxTw"
   },
   "outputs": [],
   "source": []
  }
 ],
 "metadata": {
  "accelerator": "GPU",
  "colab": {
   "collapsed_sections": [],
   "name": "A1_1layer4nodes.ipynb",
   "provenance": []
  },
  "kernelspec": {
   "display_name": "Python 3",
   "language": "python",
   "name": "python3"
  },
  "language_info": {
   "codemirror_mode": {
    "name": "ipython",
    "version": 3
   },
   "file_extension": ".py",
   "mimetype": "text/x-python",
   "name": "python",
   "nbconvert_exporter": "python",
   "pygments_lexer": "ipython3",
   "version": "3.6.8"
  }
 },
 "nbformat": 4,
 "nbformat_minor": 1
}
